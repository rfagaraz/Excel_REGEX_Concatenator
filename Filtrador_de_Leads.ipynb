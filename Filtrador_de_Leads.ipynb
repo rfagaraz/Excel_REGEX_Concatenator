{
  "cells": [
    {
      "cell_type": "markdown",
      "metadata": {
        "colab_type": "text",
        "id": "view-in-github"
      },
      "source": [
        "<a href=\"https://colab.research.google.com/github/rfagaraz/Excel_REGEX_Concatenator/blob/master/Filtrador_de_Leads.ipynb\" target=\"_parent\"><img src=\"https://colab.research.google.com/assets/colab-badge.svg\" alt=\"Open In Colab\"/></a>"
      ]
    },
    {
      "cell_type": "code",
      "execution_count": null,
      "metadata": {
        "colab": {},
        "colab_type": "code",
        "id": "0F3Et6gIZJ9h"
      },
      "outputs": [],
      "source": [
        "import pandas as pd\n",
        "import numpy as np\n",
        "import glob\n",
        "import re\n",
        "from openpyxl import load_workbook\n"
      ]
    },
    {
      "cell_type": "code",
      "execution_count": null,
      "metadata": {
        "colab": {},
        "colab_type": "code",
        "id": "BI1r6Ve3aZMi"
      },
      "outputs": [],
      "source": [
        "leads = pd.DataFrame()\n",
        "for files in glob.glob('*.xlsx'):\n",
        "  df = pd.read_excel(files)\n",
        "  leads = leads.append(df, ignore_index=False)\n"
      ]
    },
    {
      "cell_type": "markdown",
      "metadata": {
        "colab_type": "text",
        "id": "tRz3B_CSacGJ"
      },
      "source": []
    },
    {
      "cell_type": "code",
      "execution_count": null,
      "metadata": {
        "colab": {},
        "colab_type": "code",
        "id": "k4tWUFQSbqdM"
      },
      "outputs": [],
      "source": [
        "book = load_workbook('/content/Template file/Template.xlsx')\n",
        "writer = pd.ExcelWriter('/content/Template file/Template.xlsx', engine = 'openpyxl')\n",
        "writer.book = book\n",
        "writer.sheets = dict((ws.title, ws) for ws in book.worksheets)"
      ]
    },
    {
      "cell_type": "code",
      "execution_count": null,
      "metadata": {
        "colab": {},
        "colab_type": "code",
        "id": "HZFYjrojcN1V"
      },
      "outputs": [],
      "source": [
        "leads.replace(to_replace =\"^(\\+55|55|055|\\s\\+55|\\s55|\\s055){0,1}?(\\s|-|\\.|\\+|\\_)?(0{0,1}\\s{0,1})?([1-9][0-9]|\\([1-9][0-9]\\))(\\s|-|\\.|\\+|\\_|\\(|\\)){0,2}?((?!9999)\\d{4,5}){0,1}?(\\s|-|\\.|\\+|\\_)?((?!0000)?\\d{4,5})$\", value=r\"\\4-\\6\\8\", regex=True, inplace=True)\n",
        "leads.filter(regex=\"^(\\+55|55|055|\\s\\+55|\\s55|\\s055){0,1}?(\\s|-|\\.|\\+|\\_)?(0{0,1}\\s{0,1})?([1-9][0-9]|\\([1-9][0-9]\\))(\\s|-|\\.|\\+|\\_){0,2}?(\\d{4,5}){0,1}?(\\s|-|\\.|\\+|\\_)?((?!0000)?\\d{4,5})$\", axis=1)\n",
        "leads.insert(6, column = 'validação de número telefônico', value = 'Sem erros identificados')\n"
      ]
    },
    {
      "cell_type": "code",
      "execution_count": null,
      "metadata": {
        "colab": {},
        "colab_type": "code",
        "id": "so8N6ACbcvZS"
      },
      "outputs": [],
      "source": [
        "for index, row in leads.iterrows():\n",
        "  fone = leads['Phone Mask'][index]\n",
        "  try:\n",
        "      if len(fone) == 12 and fone[3] != '9':\n",
        "         leads['validação de número telefônico'][index] = 'Não começa com 9'\n",
        "      elif fone[1] == '0':\n",
        "         leads['validação de número telefônico'][index] = 'DDD inválido'\n",
        "      elif fone[0] == '0':\n",
        "         leads['validação de número telefônico'][index] = 'DDD inválido'\n",
        "      elif len(fone) < 11:\n",
        "         leads['validação de número telefônico'][index] = 'Curto demais'\n",
        "      elif len(fone) > 12:\n",
        "         leads['validação de número telefônico'][index] = 'Longo demais'\n",
        "      elif len(fone) == 11 and (fone[3] == '6' or fone[3] == '7' or fone[3] == '8' or fone[3] == '9'):\n",
        "         leads['validação de número telefônico'][index] = 'Não tem o nono dígito'\n",
        "      elif len(fone) > 12:\n",
        "         leads['validação de número telefônico'][index] = 'Longo demais'\n",
        "      elif len(fone) == 'NaN':\n",
        "         leads['validação de número telefônico'][index] = 'Telefone não informado'\n",
        "            \n",
        "  except:\n",
        "      leads['validação de número telefônico'][index] = 'Não conseguiu identificar o número'"
      ]
    },
    {
      "cell_type": "code",
      "execution_count": null,
      "metadata": {
        "colab": {},
        "colab_type": "code",
        "id": "hvnUFYdad4DN"
      },
      "outputs": [],
      "source": [
        "leads.to_excel(writer, sheet_name='Base Original')\n",
        "writer.save()"
      ]
    },
    {
      "cell_type": "code",
      "execution_count": null,
      "metadata": {
        "colab": {},
        "colab_type": "code",
        "id": "vx4aSkdydxgo"
      },
      "outputs": [],
      "source": []
    }
  ],
  "metadata": {
    "colab": {
      "include_colab_link": true,
      "name": "Filtrador de Leads",
      "provenance": []
    },
    "kernelspec": {
      "display_name": "Python 3.10.5 64-bit",
      "language": "python",
      "name": "python3"
    },
    "language_info": {
      "name": "python",
      "version": "3.10.5"
    },
    "vscode": {
      "interpreter": {
        "hash": "0b10dc9268047a3efe1c7b1e0bf66d44c646a4d64b91b89e87db341333f9721a"
      }
    }
  },
  "nbformat": 4,
  "nbformat_minor": 0
}
