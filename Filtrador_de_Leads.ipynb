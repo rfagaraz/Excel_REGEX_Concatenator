{
  "nbformat": 4,
  "nbformat_minor": 0,
  "metadata": {
    "colab": {
      "name": "Filtrador de Leads",
      "provenance": [],
      "include_colab_link": true
    },
    "kernelspec": {
      "name": "python3",
      "display_name": "Python 3"
    }
  },
  "cells": [
    {
      "cell_type": "markdown",
      "metadata": {
        "id": "view-in-github",
        "colab_type": "text"
      },
      "source": [
        "<a href=\"https://colab.research.google.com/github/rfagaraz/Excel_REGEX_Concatenator/blob/master/Filtrador_de_Leads.ipynb\" target=\"_parent\"><img src=\"https://colab.research.google.com/assets/colab-badge.svg\" alt=\"Open In Colab\"/></a>"
      ]
    },
    {
      "cell_type": "code",
      "metadata": {
        "id": "0F3Et6gIZJ9h",
        "colab_type": "code",
        "colab": {}
      },
      "source": [
        "import pandas as pd\n",
        "import numpy as np\n",
        "import glob\n",
        "import re\n",
        "from openpyxl import load_workbook\n"
      ],
      "execution_count": 0,
      "outputs": []
    },
    {
      "cell_type": "code",
      "metadata": {
        "id": "BI1r6Ve3aZMi",
        "colab_type": "code",
        "colab": {}
      },
      "source": [
        "leads = pd.DataFrame()\n",
        "for files in glob.glob('*.xlsx'):\n",
        "  df = pd.read_excel(files)\n",
        "  leads = leads.append(df, ignore_index=False)\n"
      ],
      "execution_count": 0,
      "outputs": []
    },
    {
      "cell_type": "markdown",
      "metadata": {
        "id": "tRz3B_CSacGJ",
        "colab_type": "text"
      },
      "source": [
        ""
      ]
    },
    {
      "cell_type": "code",
      "metadata": {
        "id": "k4tWUFQSbqdM",
        "colab_type": "code",
        "colab": {}
      },
      "source": [
        "book = load_workbook('/content/Template file/Template.xlsx')\n",
        "writer = pd.ExcelWriter('/content/Template file/Template.xlsx', engine = 'openpyxl')\n",
        "writer.book = book\n",
        "writer.sheets = dict((ws.title, ws) for ws in book.worksheets)"
      ],
      "execution_count": 0,
      "outputs": []
    },
    {
      "cell_type": "code",
      "metadata": {
        "id": "HZFYjrojcN1V",
        "colab_type": "code",
        "colab": {}
      },
      "source": [
        "leads.replace(to_replace =\"^(\\+55|55|055|\\s\\+55|\\s55|\\s055){0,1}?(\\s|-|\\.|\\+|\\_)?(0{0,1}\\s{0,1})?([1-9][0-9]|\\([1-9][0-9]\\))(\\s|-|\\.|\\+|\\_|\\(|\\)){0,2}?((?!9999)\\d{4,5}){0,1}?(\\s|-|\\.|\\+|\\_)?((?!0000)?\\d{4,5})$\", value=r\"\\4-\\6\\8\", regex=True, inplace=True)\n",
        "leads.filter(regex=\"^(\\+55|55|055|\\s\\+55|\\s55|\\s055){0,1}?(\\s|-|\\.|\\+|\\_)?(0{0,1}\\s{0,1})?([1-9][0-9]|\\([1-9][0-9]\\))(\\s|-|\\.|\\+|\\_){0,2}?(\\d{4,5}){0,1}?(\\s|-|\\.|\\+|\\_)?((?!0000)?\\d{4,5})$\", axis=1)\n",
        "leads.insert(6, column = 'validação de número telefônico', value = 'Sem erros identificados')\n"
      ],
      "execution_count": 0,
      "outputs": []
    },
    {
      "cell_type": "code",
      "metadata": {
        "id": "so8N6ACbcvZS",
        "colab_type": "code",
        "colab": {}
      },
      "source": [
        "for index, row in leads.iterrows():\n",
        "  fone = leads['Phone Mask'][index]\n",
        "  try:\n",
        "      if len(fone) == 12 and fone[3] != '9':\n",
        "         leads['validação de número telefônico'][index] = 'Não começa com 9'\n",
        "      elif fone[1] == '0':\n",
        "         leads['validação de número telefônico'][index] = 'DDD inválido'\n",
        "      elif fone[0] == '0':\n",
        "         leads['validação de número telefônico'][index] = 'DDD inválido'\n",
        "      elif len(fone) < 11:\n",
        "         leads['validação de número telefônico'][index] = 'Curto demais'\n",
        "      elif len(fone) > 12:\n",
        "         leads['validação de número telefônico'][index] = 'Longo demais'\n",
        "      elif len(fone) == 11 and (fone[3] == '6' or fone[3] == '7' or fone[3] == '8' or fone[3] == '9'):\n",
        "         leads['validação de número telefônico'][index] = 'Não tem o nono dígito'\n",
        "      elif len(fone) > 12:\n",
        "         leads['validação de número telefônico'][index] = 'Longo demais'\n",
        "      elif len(fone) == 'NaN':\n",
        "         leads['validação de número telefônico'][index] = 'Telefone não informado'\n",
        "            \n",
        "  except:\n",
        "      leads['validação de número telefônico'][index] = 'Não conseguiu identificar o número'"
      ],
      "execution_count": 0,
      "outputs": []
    },
    {
      "cell_type": "code",
      "metadata": {
        "id": "hvnUFYdad4DN",
        "colab_type": "code",
        "colab": {}
      },
      "source": [
        "leads.to_excel(writer, sheet_name='Base Original')\n",
        "writer.save()"
      ],
      "execution_count": 0,
      "outputs": []
    },
    {
      "cell_type": "code",
      "metadata": {
        "id": "vx4aSkdydxgo",
        "colab_type": "code",
        "colab": {}
      },
      "source": [
        ""
      ],
      "execution_count": 0,
      "outputs": []
    }
  ]
}